{
  "metadata": {
    "kernelspec": {
      "name": "python",
      "display_name": "Python (Pyodide)",
      "language": "python"
    },
    "language_info": {
      "codemirror_mode": {
        "name": "python",
        "version": 3
      },
      "file_extension": ".py",
      "mimetype": "text/x-python",
      "name": "python",
      "nbconvert_exporter": "python",
      "pygments_lexer": "ipython3",
      "version": "3.8"
    }
  },
  "nbformat_minor": 4,
  "nbformat": 4,
  "cells": [
    {
      "cell_type": "code",
      "source": "# python script to automate the organization of files in a directory",
      "metadata": {
        "trusted": true
      },
      "outputs": [],
      "execution_count": null
    },
    {
      "cell_type": "code",
      "source": "import os\nimport shutil\n\ndef organize_directory(path):\n    # create a dictionary to map file extensions to folder names\n    EXTENSION_FOLDERS = {\n        '.jpg': 'Images',\n        '.png': 'Images',\n        '.gif': 'Images',\n        '.pdf': 'Documents',\n        '.txt': 'Documents',\n        '.zip': 'Archives',\n        '.mp3': 'Music',\n        '.mp4': 'Videos',\n        # add more file types and folders as needed\n    }\n\n    for item in os.listdir(path):\n        # get the file extension\n        extension = os.path.splitext(item)[1].lower()\n        if extension in EXTENSION_FOLDERS:\n            folder_name = EXTENSION_FOLDERS[extension]\n            folder_path = os.path.join(path, folder_name)\n\n            # create the folder if it doesn't exist\n            if not os.path.exists(folder_path):\n                os.mkdir(folder_path)\n\n            # move the file\n            shutil.move(os.path.join(path, item), folder_path)\n\n# example\norganize_directory('/path/to/your/directory')\n",
      "metadata": {
        "trusted": true
      },
      "outputs": [],
      "execution_count": null
    }
  ]
}